{
 "cells": [
  {
   "cell_type": "markdown",
   "metadata": {},
   "source": [
    "# Podwójne wahadło - animacja\n",
    "\n",
    "Rozważymy tutaj program do animacji podwójnego wahadła. W pierwszej kolejności - zwykłe wahadło matematyczne.\n",
    "\n",
    "![](./pendulum2.png)"
   ]
  },
  {
   "cell_type": "markdown",
   "metadata": {},
   "source": [
    "Spróbujemy narysować to wahadło w `matplotlib`, a następnie zasymulować jego zmiany za pomocą równań różniczkowych. Jeśli długość wahadła wynosi $L$, a początkowe wyhylenie wynosi $\\theta_0$, to współrzędne początkowe będą równe:\n",
    "\n",
    "$$\\begin{aligned}\n",
    "x &= L\\cdot\\sin\\theta_0,\\\\\n",
    "y &= -L\\cdot\\cos\\theta_0.\n",
    "\\end{aligned}$$"
   ]
  },
  {
   "cell_type": "markdown",
   "metadata": {},
   "source": [
    "Kod w `matplotlib` pozwalający uzyskać ten układ będzie następujący:"
   ]
  },
  {
   "cell_type": "code",
   "execution_count": 26,
   "metadata": {},
   "outputs": [
    {
     "data": {
      "image/png": "[encoded data removed]",
      "text/plain": [
       "<Figure size 432x288 with 1 Axes>"
      ]
     },
     "metadata": {
      "needs_background": "light"
     },
     "output_type": "display_data"
    }
   ],
   "source": [
    "%matplotlib inline\n",
    "import matplotlib.pyplot as plt #do rysowania\n",
    "import numpy as np #do obliczeń numerycznych\n",
    "\n",
    "L = 10 #długość wahadła\n",
    "theta0 = 0.7 #początkowe wyhylenie (w radianach)\n",
    "\n",
    "x = [0, L*np.sin(theta)] # 0 oznacza punkt zawieszenia wahadła\n",
    "y = [0, -L*np.cos(theta)]\n",
    "\n",
    "ax = plt.subplot(111, \n",
    "                 aspect='equal', #aby wyłączyć autoskalowanie\n",
    "                 xlim=(-30, 30), #granice x\n",
    "                 ylim=(-20, 20)  #granice y\n",
    "                )\n",
    "\n",
    "ax.plot(x,y, '-o')\n",
    "plt.show()"
   ]
  },
  {
   "cell_type": "markdown",
   "metadata": {},
   "source": [
    "Ok. Teraz spróbujemy napisać program który wygeneruje kolejne położenia wahadła. Do tego potrzebujemy odrobiny fizyki.\n",
    "\n",
    "Na wahadło działa pionowa siła ciężkości równa iloczynowi masy i przyspieszenia ziemskiego:\n",
    "\n",
    "$$\\vec{F_g} = m\\vec{g}$$"
   ]
  },
  {
   "cell_type": "markdown",
   "metadata": {},
   "source": [
    "Owa siła ciężkości jest skierowana w dół. Jednak to co uniemożliwia ciężarkowi swobodne opadanie to ramię wahadła. Siła jest rozbijana na dwie składowe, równoległą i prostopadłą do ramienia wahadła.\n",
    "\n",
    "\n",
    "![](pendulum.jpg)"
   ]
  },
  {
   "cell_type": "markdown",
   "metadata": {},
   "source": [
    "Składowa równoległa ciągnie ramię, jednak to, zawieszone na nieruchomej osi, nie ulega przesunięciu. To co nas teraz interesuje to składowa prostopadła, której wartość będzie równa:\n",
    "\n",
    "$$F_\\perp = -mg\\sin\\theta,$$\n",
    "\n",
    "gdzie $\\theta$ jest **aktualnym kątem wyhylenia wahadła**. W jaki sposób uzyskać $\\sin\\theta$? Będzie on na twardo zwiazany z wartościami $x, y$ - dokładniej:\n",
    "\n",
    "$$\\sin\\theta = \\frac{x}{L}.$$\n",
    "\n",
    "Dla porównania (i ponieważ przyda nam się to za chwilę), $\\cos\\theta$ będzie równy:\n",
    "\n",
    "$$\\cos\\theta = -\\frac{y}{L},$$\n",
    "\n",
    "(minus jest przez to że wahadło jest skierowane w dół, przez co $y$ jest ujemne).\n",
    "\n",
    "Ok. Mamy siłę prostopadłą do osi wahadła, wypadałoby... rozłożyć ją na składowe $x$ oraz $y$. Tak, rozkładania na części składowe będzie tu jeszcze sporo. Najprościej:\n",
    "\n",
    "$$\n",
    "\\begin{aligned}\n",
    "F_x &= F_\\perp\\cos\\theta,\\\\\n",
    "F_y &= F_\\perp\\sin\\theta.\n",
    "\\end{aligned}\n",
    "$$"
   ]
  },
  {
   "cell_type": "markdown",
   "metadata": {},
   "source": [
    "Z fizyki wiemy, że siła jest równa masie razy przyspieszeniu. Owe przyspieszenie jest **zmianą prędkości w czasie**, przy czym prędkość, jak dobrze wiemy, jest **zmianą położenia w czasie**. Podstawmy pod powyższe równania wzór $F=ma$:\n",
    "\n",
    "$$\\begin{align}\n",
    "ma_x = -mg\\sin\\theta\\cos\\theta,\\\\\n",
    "ma_y = -mg+mg\\sin\\theta.\n",
    "\\end{align}$$"
   ]
  },
  {
   "cell_type": "markdown",
   "metadata": {},
   "source": [
    "Okazuje się, że masy się skracają. Jest to oczywiście znany wynik w fizyce - **masa nie wpływa na spadek swobodny**. Równania się przekształcają do:\n",
    "\n",
    "$$\\begin{align}\n",
    "a_x = \\frac{g}{L^2}xy,\\\\\n",
    "a_y = -g + \\frac{g}{L}x.\n",
    "\\end{align}$$"
   ]
  },
  {
   "cell_type": "code",
   "execution_count": 148,
   "metadata": {},
   "outputs": [
    {
     "data": {
      "image/png": "[encoded data removed]",
      "text/plain": [
       "<Figure size 432x288 with 1 Axes>"
      ]
     },
     "metadata": {
      "needs_background": "light"
     },
     "output_type": "display_data"
    }
   ],
   "source": [
    "L = 10\n",
    "theta = 0.7\n",
    "dt = 0.001\n",
    "g = 10\n",
    "\n",
    "gl = g/L\n",
    "gl2 = g/L**2\n",
    "\n",
    "x, y = L*np.sin(theta), -L*np.cos(theta)\n",
    "vx, vy = 0, 0\n",
    "\n",
    "X, Y = [], []\n",
    "R = []\n",
    "\n",
    "for i in range(10000):\n",
    "    ax = -gl*x\n",
    "    ay = -g-gl*y\n",
    "    vx += ax*dt\n",
    "    vy += ay*dt\n",
    "    x += vx*dt\n",
    "    y += vy*dt\n",
    "    X += [x]\n",
    "    Y += [y]\n",
    "    \n",
    "plt.plot(X)\n",
    "plt.plot(Y)\n",
    "plt.show()\n"
   ]
  }
 ],
 "metadata": {
  "kernelspec": {
   "display_name": "Python 3",
   "language": "python",
   "name": "python3"
  },
  "language_info": {
   "codemirror_mode": {
    "name": "ipython",
    "version": 3
   },
   "file_extension": ".py",
   "mimetype": "text/x-python",
   "name": "python",
   "nbconvert_exporter": "python",
   "pygments_lexer": "ipython3",
   "version": "3.6.6"
  }
 },
 "nbformat": 4,
 "nbformat_minor": 2
}
